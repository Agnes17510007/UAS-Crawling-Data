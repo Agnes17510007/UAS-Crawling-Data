{
  "nbformat": 4,
  "nbformat_minor": 0,
  "metadata": {
    "colab": {
      "name": "Crawling Bukalapak.ipynb",
      "provenance": []
    },
    "kernelspec": {
      "name": "python3",
      "display_name": "Python 3"
    }
  },
  "cells": [
    {
      "cell_type": "code",
      "metadata": {
        "id": "lyCf2DKgmtDA"
      },
      "source": [
        "# Import the libraries\r\n",
        "import tweepy\r\n",
        "from textblob import TextBlob\r\n",
        "from wordcloud import WordCloud\r\n",
        "import pandas as pd\r\n",
        "import numpy as np\r\n",
        "import re\r\n",
        "import matplotlib.pyplot as plt\r\n",
        "plt.style.use('fivethirtyeight')"
      ],
      "execution_count": 1,
      "outputs": []
    },
    {
      "cell_type": "code",
      "metadata": {
        "id": "Tj28aybDmz-I"
      },
      "source": [
        "# Twitter Api Credentials\r\n",
        "consumerKey = \"XhdYabVocmqWCex5hCD8jBD9h\"\r\n",
        "consumerSecret = \"NRyh3oOKMDHgSBh7htAB3T8Uzii7ffL3EBsNM5LGLEvG1JZkq7\"\r\n",
        "accessToken = \"1232645972313796609-6wXttbepUkycE9TFuRIaa3W9c5iLQy\"\r\n",
        "accessTokenSecret = \"KDLUnTGBnAeqGa9cbUaNu0OAYXYLJQ4h9cyYgVz2Cyk5u\"\r\n",
        "\r\n",
        "# Create the authentication object\r\n",
        "authenticate = tweepy.OAuthHandler(consumerKey, consumerSecret) \r\n",
        "    \r\n",
        "# Set the access token and access token secret\r\n",
        "authenticate.set_access_token(accessToken, accessTokenSecret) \r\n",
        "    \r\n",
        "# Creating the API object while passing in auth information\r\n",
        "api = tweepy.API(authenticate, wait_on_rate_limit = True)\r\n"
      ],
      "execution_count": 3,
      "outputs": []
    },
    {
      "cell_type": "code",
      "metadata": {
        "colab": {
          "base_uri": "https://localhost:8080/"
        },
        "id": "_JgH-NIxnC2q",
        "outputId": "8d41f0e3-a600-47f3-e00c-443faeeaa4b8"
      },
      "source": [
        "# Extract 1000 tweets from the twitter user\r\n",
        "posts = api.user_timeline(screen_name=\"Bukalapak\", count = 1000, lang =\"en\", tweet_mode=\"extended\")\r\n",
        "\r\n",
        "#  Print the last 5 tweets\r\n",
        "print(\"Show the 5 recent tweets:\\n\")\r\n",
        "i=1\r\n",
        "for tweet in posts[:5]:\r\n",
        "    print(str(i) +') '+ tweet.full_text + '\\n')\r\n",
        "    i= i+1"
      ],
      "execution_count": 6,
      "outputs": [
        {
          "output_type": "stream",
          "text": [
            "Show the 5 recent tweets:\n",
            "\n",
            "1) @anddrebaldhead Hai Kak, mohon maaf atas kendalanya. Bisa infokan nomor transaksi Kakak, ya (contoh: 201*********) atau nomor tagihan Kakak (contoh: BL201******INV) melalui DM ya kak agar dapat Bella bantu lakukan pengecekan lebih lanjut kendala kakak. :) ^IS\n",
            "\n",
            "2) @LLLoserx https://t.co/IFTInfT5ub\n",
            "\n",
            "3) @ruqoyyahalkhoir Langsung aja cuss, gampang banget caranya 👇https://t.co/sls8GluEOF\n",
            "\n",
            "4) Langsung aja ikutan kuis di bawah ini, ada Bukalapak Credits untuk 5 orang yang beruntung 👇✨#BerkembangBersama https://t.co/sur3NboObo\n",
            "\n",
            "5) @alisyanura Ashiaaaaaap\n",
            "\n"
          ],
          "name": "stdout"
        }
      ]
    },
    {
      "cell_type": "code",
      "metadata": {
        "colab": {
          "base_uri": "https://localhost:8080/",
          "height": 204
        },
        "id": "BTIwEakvnegp",
        "outputId": "db44a6a2-00b7-4e52-b865-886501c4a0a6"
      },
      "source": [
        "# Create a dataframe with a column called Tweets\r\n",
        "df = pd.DataFrame([tweet.full_text for tweet in posts], columns=['Tweets'])\r\n",
        "# Show the first 10 rows of data\r\n",
        "df.head()"
      ],
      "execution_count": 7,
      "outputs": [
        {
          "output_type": "execute_result",
          "data": {
            "text/html": [
              "<div>\n",
              "<style scoped>\n",
              "    .dataframe tbody tr th:only-of-type {\n",
              "        vertical-align: middle;\n",
              "    }\n",
              "\n",
              "    .dataframe tbody tr th {\n",
              "        vertical-align: top;\n",
              "    }\n",
              "\n",
              "    .dataframe thead th {\n",
              "        text-align: right;\n",
              "    }\n",
              "</style>\n",
              "<table border=\"1\" class=\"dataframe\">\n",
              "  <thead>\n",
              "    <tr style=\"text-align: right;\">\n",
              "      <th></th>\n",
              "      <th>Tweets</th>\n",
              "    </tr>\n",
              "  </thead>\n",
              "  <tbody>\n",
              "    <tr>\n",
              "      <th>0</th>\n",
              "      <td>@anddrebaldhead Hai Kak, mohon maaf atas kenda...</td>\n",
              "    </tr>\n",
              "    <tr>\n",
              "      <th>1</th>\n",
              "      <td>@LLLoserx https://t.co/IFTInfT5ub</td>\n",
              "    </tr>\n",
              "    <tr>\n",
              "      <th>2</th>\n",
              "      <td>@ruqoyyahalkhoir Langsung aja cuss, gampang ba...</td>\n",
              "    </tr>\n",
              "    <tr>\n",
              "      <th>3</th>\n",
              "      <td>Langsung aja ikutan kuis di bawah ini, ada Buk...</td>\n",
              "    </tr>\n",
              "    <tr>\n",
              "      <th>4</th>\n",
              "      <td>@alisyanura Ashiaaaaaap</td>\n",
              "    </tr>\n",
              "  </tbody>\n",
              "</table>\n",
              "</div>"
            ],
            "text/plain": [
              "                                              Tweets\n",
              "0  @anddrebaldhead Hai Kak, mohon maaf atas kenda...\n",
              "1                  @LLLoserx https://t.co/IFTInfT5ub\n",
              "2  @ruqoyyahalkhoir Langsung aja cuss, gampang ba...\n",
              "3  Langsung aja ikutan kuis di bawah ini, ada Buk...\n",
              "4                            @alisyanura Ashiaaaaaap"
            ]
          },
          "metadata": {
            "tags": []
          },
          "execution_count": 7
        }
      ]
    },
    {
      "cell_type": "code",
      "metadata": {
        "colab": {
          "base_uri": "https://localhost:8080/",
          "height": 419
        },
        "id": "7m--dcaYnnbk",
        "outputId": "46af4e51-6f49-4835-e361-70b2acbe2608"
      },
      "source": [
        "# Create a function to clean the tweets\r\n",
        "def cleanTxt(text):\r\n",
        " text = re.sub('@[A-Za-z0–9]+', '', text) #Removing @mentions\r\n",
        " text = re.sub('#', '', text) # Removing '#' hash tag\r\n",
        " text = re.sub('RT[\\s]+', '', text) # Removing RT\r\n",
        " text = re.sub('https?:\\/\\/\\S+', '', text) # Removing hyperlink\r\n",
        " \r\n",
        " return text\r\n",
        "\r\n",
        "\r\n",
        "# Clean the tweets\r\n",
        "df['Tweets'] = df['Tweets'].apply(cleanTxt)\r\n",
        "\r\n",
        "# Show the cleaned tweets\r\n",
        "df"
      ],
      "execution_count": 8,
      "outputs": [
        {
          "output_type": "execute_result",
          "data": {
            "text/html": [
              "<div>\n",
              "<style scoped>\n",
              "    .dataframe tbody tr th:only-of-type {\n",
              "        vertical-align: middle;\n",
              "    }\n",
              "\n",
              "    .dataframe tbody tr th {\n",
              "        vertical-align: top;\n",
              "    }\n",
              "\n",
              "    .dataframe thead th {\n",
              "        text-align: right;\n",
              "    }\n",
              "</style>\n",
              "<table border=\"1\" class=\"dataframe\">\n",
              "  <thead>\n",
              "    <tr style=\"text-align: right;\">\n",
              "      <th></th>\n",
              "      <th>Tweets</th>\n",
              "    </tr>\n",
              "  </thead>\n",
              "  <tbody>\n",
              "    <tr>\n",
              "      <th>0</th>\n",
              "      <td>Hai Kak, mohon maaf atas kendalanya. Bisa inf...</td>\n",
              "    </tr>\n",
              "    <tr>\n",
              "      <th>1</th>\n",
              "      <td></td>\n",
              "    </tr>\n",
              "    <tr>\n",
              "      <th>2</th>\n",
              "      <td>Langsung aja cuss, gampang banget caranya 👇</td>\n",
              "    </tr>\n",
              "    <tr>\n",
              "      <th>3</th>\n",
              "      <td>Langsung aja ikutan kuis di bawah ini, ada Buk...</td>\n",
              "    </tr>\n",
              "    <tr>\n",
              "      <th>4</th>\n",
              "      <td>Ashiaaaaaap</td>\n",
              "    </tr>\n",
              "    <tr>\n",
              "      <th>...</th>\n",
              "      <td>...</td>\n",
              "    </tr>\n",
              "    <tr>\n",
              "      <th>195</th>\n",
              "      <td>88 Hai Kak, mohon maaf atas kendalanya. Yuk ka...</td>\n",
              "    </tr>\n",
              "    <tr>\n",
              "      <th>196</th>\n",
              "      <td>Hai kak  , DM Bella di  yuk! ^LLI</td>\n",
              "    </tr>\n",
              "    <tr>\n",
              "      <th>197</th>\n",
              "      <td>4s_ Cieee cieee 😍</td>\n",
              "    </tr>\n",
              "    <tr>\n",
              "      <th>198</th>\n",
              "      <td>Muehehe, sama dong!</td>\n",
              "    </tr>\n",
              "    <tr>\n",
              "      <th>199</th>\n",
              "      <td>Semoga lekas sembuh, kak 🤗</td>\n",
              "    </tr>\n",
              "  </tbody>\n",
              "</table>\n",
              "<p>200 rows × 1 columns</p>\n",
              "</div>"
            ],
            "text/plain": [
              "                                                Tweets\n",
              "0     Hai Kak, mohon maaf atas kendalanya. Bisa inf...\n",
              "1                                                     \n",
              "2          Langsung aja cuss, gampang banget caranya 👇\n",
              "3    Langsung aja ikutan kuis di bawah ini, ada Buk...\n",
              "4                                          Ashiaaaaaap\n",
              "..                                                 ...\n",
              "195  88 Hai Kak, mohon maaf atas kendalanya. Yuk ka...\n",
              "196                  Hai kak  , DM Bella di  yuk! ^LLI\n",
              "197                                  4s_ Cieee cieee 😍\n",
              "198                               Muehehe, sama dong! \n",
              "199                         Semoga lekas sembuh, kak 🤗\n",
              "\n",
              "[200 rows x 1 columns]"
            ]
          },
          "metadata": {
            "tags": []
          },
          "execution_count": 8
        }
      ]
    },
    {
      "cell_type": "code",
      "metadata": {
        "colab": {
          "base_uri": "https://localhost:8080/",
          "height": 419
        },
        "id": "yc0FYjP5ntAe",
        "outputId": "22edda23-a58c-44ff-96bc-d5d69806abda"
      },
      "source": [
        "# Create a function to get the subjectivity\r\n",
        "def getSubjectivity(text):\r\n",
        "   return TextBlob(text).sentiment.subjectivity\r\n",
        "\r\n",
        "# Create a function to get the polarity\r\n",
        "def getPolarity(text):\r\n",
        "   return  TextBlob(text).sentiment.polarity\r\n",
        "\r\n",
        "\r\n",
        "# Create two new columns 'Subjectivity' & 'Polarity'\r\n",
        "df['Subjectivity'] = df['Tweets'].apply(getSubjectivity)\r\n",
        "df['Polarity'] = df['Tweets'].apply(getPolarity)\r\n",
        "\r\n",
        "# Show the new dataframe with columns 'Subjectivity' & 'Polarity'\r\n",
        "df"
      ],
      "execution_count": 9,
      "outputs": [
        {
          "output_type": "execute_result",
          "data": {
            "text/html": [
              "<div>\n",
              "<style scoped>\n",
              "    .dataframe tbody tr th:only-of-type {\n",
              "        vertical-align: middle;\n",
              "    }\n",
              "\n",
              "    .dataframe tbody tr th {\n",
              "        vertical-align: top;\n",
              "    }\n",
              "\n",
              "    .dataframe thead th {\n",
              "        text-align: right;\n",
              "    }\n",
              "</style>\n",
              "<table border=\"1\" class=\"dataframe\">\n",
              "  <thead>\n",
              "    <tr style=\"text-align: right;\">\n",
              "      <th></th>\n",
              "      <th>Tweets</th>\n",
              "      <th>Subjectivity</th>\n",
              "      <th>Polarity</th>\n",
              "    </tr>\n",
              "  </thead>\n",
              "  <tbody>\n",
              "    <tr>\n",
              "      <th>0</th>\n",
              "      <td>Hai Kak, mohon maaf atas kendalanya. Bisa inf...</td>\n",
              "      <td>1.0</td>\n",
              "      <td>0.375</td>\n",
              "    </tr>\n",
              "    <tr>\n",
              "      <th>1</th>\n",
              "      <td></td>\n",
              "      <td>0.0</td>\n",
              "      <td>0.000</td>\n",
              "    </tr>\n",
              "    <tr>\n",
              "      <th>2</th>\n",
              "      <td>Langsung aja cuss, gampang banget caranya 👇</td>\n",
              "      <td>0.0</td>\n",
              "      <td>0.000</td>\n",
              "    </tr>\n",
              "    <tr>\n",
              "      <th>3</th>\n",
              "      <td>Langsung aja ikutan kuis di bawah ini, ada Buk...</td>\n",
              "      <td>0.0</td>\n",
              "      <td>0.000</td>\n",
              "    </tr>\n",
              "    <tr>\n",
              "      <th>4</th>\n",
              "      <td>Ashiaaaaaap</td>\n",
              "      <td>0.0</td>\n",
              "      <td>0.000</td>\n",
              "    </tr>\n",
              "    <tr>\n",
              "      <th>...</th>\n",
              "      <td>...</td>\n",
              "      <td>...</td>\n",
              "      <td>...</td>\n",
              "    </tr>\n",
              "    <tr>\n",
              "      <th>195</th>\n",
              "      <td>88 Hai Kak, mohon maaf atas kendalanya. Yuk ka...</td>\n",
              "      <td>1.0</td>\n",
              "      <td>0.375</td>\n",
              "    </tr>\n",
              "    <tr>\n",
              "      <th>196</th>\n",
              "      <td>Hai kak  , DM Bella di  yuk! ^LLI</td>\n",
              "      <td>0.0</td>\n",
              "      <td>0.000</td>\n",
              "    </tr>\n",
              "    <tr>\n",
              "      <th>197</th>\n",
              "      <td>4s_ Cieee cieee 😍</td>\n",
              "      <td>0.0</td>\n",
              "      <td>0.000</td>\n",
              "    </tr>\n",
              "    <tr>\n",
              "      <th>198</th>\n",
              "      <td>Muehehe, sama dong!</td>\n",
              "      <td>0.0</td>\n",
              "      <td>0.000</td>\n",
              "    </tr>\n",
              "    <tr>\n",
              "      <th>199</th>\n",
              "      <td>Semoga lekas sembuh, kak 🤗</td>\n",
              "      <td>0.0</td>\n",
              "      <td>0.000</td>\n",
              "    </tr>\n",
              "  </tbody>\n",
              "</table>\n",
              "<p>200 rows × 3 columns</p>\n",
              "</div>"
            ],
            "text/plain": [
              "                                                Tweets  Subjectivity  Polarity\n",
              "0     Hai Kak, mohon maaf atas kendalanya. Bisa inf...           1.0     0.375\n",
              "1                                                                0.0     0.000\n",
              "2          Langsung aja cuss, gampang banget caranya 👇           0.0     0.000\n",
              "3    Langsung aja ikutan kuis di bawah ini, ada Buk...           0.0     0.000\n",
              "4                                          Ashiaaaaaap           0.0     0.000\n",
              "..                                                 ...           ...       ...\n",
              "195  88 Hai Kak, mohon maaf atas kendalanya. Yuk ka...           1.0     0.375\n",
              "196                  Hai kak  , DM Bella di  yuk! ^LLI           0.0     0.000\n",
              "197                                  4s_ Cieee cieee 😍           0.0     0.000\n",
              "198                               Muehehe, sama dong!            0.0     0.000\n",
              "199                         Semoga lekas sembuh, kak 🤗           0.0     0.000\n",
              "\n",
              "[200 rows x 3 columns]"
            ]
          },
          "metadata": {
            "tags": []
          },
          "execution_count": 9
        }
      ]
    },
    {
      "cell_type": "code",
      "metadata": {
        "colab": {
          "base_uri": "https://localhost:8080/",
          "height": 248
        },
        "id": "PLcejVgsnznT",
        "outputId": "176e8598-a65a-40ad-b717-650836ed228e"
      },
      "source": [
        "# word cloud visualization\r\n",
        "allWords = ' '.join([twts for twts in df['Tweets']])\r\n",
        "wordCloud = WordCloud(width=500, height=300, random_state=21, max_font_size=110).generate(allWords)\r\n",
        "\r\n",
        "\r\n",
        "plt.imshow(wordCloud, interpolation=\"bilinear\")\r\n",
        "plt.axis('off')\r\n",
        "plt.show()"
      ],
      "execution_count": 10,
      "outputs": [
        {
          "output_type": "display_data",
          "data": {
            "image/png": "[encoded data removed]",
            "text/plain": [
              "<Figure size 432x288 with 1 Axes>"
            ]
          },
          "metadata": {
            "tags": [],
            "needs_background": "light"
          }
        }
      ]
    },
    {
      "cell_type": "code",
      "metadata": {
        "colab": {
          "base_uri": "https://localhost:8080/",
          "height": 419
        },
        "id": "YkTidj99n4KQ",
        "outputId": "65e19dd9-2bfd-4e8c-f49d-ab13e3ccbba2"
      },
      "source": [
        "# Create a function to compute negative (-1), neutral (0) and positive (+1) analysis\r\n",
        "def getAnalysis(score):\r\n",
        "\r\n",
        "    \r\n",
        " if score < 0:\r\n",
        "  return 'Negative'\r\n",
        " elif score == 0:\r\n",
        "  return 'Neutral'\r\n",
        " else:\r\n",
        "  return 'Positive'\r\n",
        "df['Analysis'] = df['Polarity'].apply(getAnalysis)\r\n",
        "# Show the dataframe\r\n",
        "df"
      ],
      "execution_count": 11,
      "outputs": [
        {
          "output_type": "execute_result",
          "data": {
            "text/html": [
              "<div>\n",
              "<style scoped>\n",
              "    .dataframe tbody tr th:only-of-type {\n",
              "        vertical-align: middle;\n",
              "    }\n",
              "\n",
              "    .dataframe tbody tr th {\n",
              "        vertical-align: top;\n",
              "    }\n",
              "\n",
              "    .dataframe thead th {\n",
              "        text-align: right;\n",
              "    }\n",
              "</style>\n",
              "<table border=\"1\" class=\"dataframe\">\n",
              "  <thead>\n",
              "    <tr style=\"text-align: right;\">\n",
              "      <th></th>\n",
              "      <th>Tweets</th>\n",
              "      <th>Subjectivity</th>\n",
              "      <th>Polarity</th>\n",
              "      <th>Analysis</th>\n",
              "    </tr>\n",
              "  </thead>\n",
              "  <tbody>\n",
              "    <tr>\n",
              "      <th>0</th>\n",
              "      <td>Hai Kak, mohon maaf atas kendalanya. Bisa inf...</td>\n",
              "      <td>1.0</td>\n",
              "      <td>0.375</td>\n",
              "      <td>Positive</td>\n",
              "    </tr>\n",
              "    <tr>\n",
              "      <th>1</th>\n",
              "      <td></td>\n",
              "      <td>0.0</td>\n",
              "      <td>0.000</td>\n",
              "      <td>Neutral</td>\n",
              "    </tr>\n",
              "    <tr>\n",
              "      <th>2</th>\n",
              "      <td>Langsung aja cuss, gampang banget caranya 👇</td>\n",
              "      <td>0.0</td>\n",
              "      <td>0.000</td>\n",
              "      <td>Neutral</td>\n",
              "    </tr>\n",
              "    <tr>\n",
              "      <th>3</th>\n",
              "      <td>Langsung aja ikutan kuis di bawah ini, ada Buk...</td>\n",
              "      <td>0.0</td>\n",
              "      <td>0.000</td>\n",
              "      <td>Neutral</td>\n",
              "    </tr>\n",
              "    <tr>\n",
              "      <th>4</th>\n",
              "      <td>Ashiaaaaaap</td>\n",
              "      <td>0.0</td>\n",
              "      <td>0.000</td>\n",
              "      <td>Neutral</td>\n",
              "    </tr>\n",
              "    <tr>\n",
              "      <th>...</th>\n",
              "      <td>...</td>\n",
              "      <td>...</td>\n",
              "      <td>...</td>\n",
              "      <td>...</td>\n",
              "    </tr>\n",
              "    <tr>\n",
              "      <th>195</th>\n",
              "      <td>88 Hai Kak, mohon maaf atas kendalanya. Yuk ka...</td>\n",
              "      <td>1.0</td>\n",
              "      <td>0.375</td>\n",
              "      <td>Positive</td>\n",
              "    </tr>\n",
              "    <tr>\n",
              "      <th>196</th>\n",
              "      <td>Hai kak  , DM Bella di  yuk! ^LLI</td>\n",
              "      <td>0.0</td>\n",
              "      <td>0.000</td>\n",
              "      <td>Neutral</td>\n",
              "    </tr>\n",
              "    <tr>\n",
              "      <th>197</th>\n",
              "      <td>4s_ Cieee cieee 😍</td>\n",
              "      <td>0.0</td>\n",
              "      <td>0.000</td>\n",
              "      <td>Neutral</td>\n",
              "    </tr>\n",
              "    <tr>\n",
              "      <th>198</th>\n",
              "      <td>Muehehe, sama dong!</td>\n",
              "      <td>0.0</td>\n",
              "      <td>0.000</td>\n",
              "      <td>Neutral</td>\n",
              "    </tr>\n",
              "    <tr>\n",
              "      <th>199</th>\n",
              "      <td>Semoga lekas sembuh, kak 🤗</td>\n",
              "      <td>0.0</td>\n",
              "      <td>0.000</td>\n",
              "      <td>Neutral</td>\n",
              "    </tr>\n",
              "  </tbody>\n",
              "</table>\n",
              "<p>200 rows × 4 columns</p>\n",
              "</div>"
            ],
            "text/plain": [
              "                                                Tweets  ...  Analysis\n",
              "0     Hai Kak, mohon maaf atas kendalanya. Bisa inf...  ...  Positive\n",
              "1                                                       ...   Neutral\n",
              "2          Langsung aja cuss, gampang banget caranya 👇  ...   Neutral\n",
              "3    Langsung aja ikutan kuis di bawah ini, ada Buk...  ...   Neutral\n",
              "4                                          Ashiaaaaaap  ...   Neutral\n",
              "..                                                 ...  ...       ...\n",
              "195  88 Hai Kak, mohon maaf atas kendalanya. Yuk ka...  ...  Positive\n",
              "196                  Hai kak  , DM Bella di  yuk! ^LLI  ...   Neutral\n",
              "197                                  4s_ Cieee cieee 😍  ...   Neutral\n",
              "198                               Muehehe, sama dong!   ...   Neutral\n",
              "199                         Semoga lekas sembuh, kak 🤗  ...   Neutral\n",
              "\n",
              "[200 rows x 4 columns]"
            ]
          },
          "metadata": {
            "tags": []
          },
          "execution_count": 11
        }
      ]
    },
    {
      "cell_type": "code",
      "metadata": {
        "colab": {
          "base_uri": "https://localhost:8080/",
          "height": 419
        },
        "id": "ZJIchU9an4Or",
        "outputId": "d5e851a7-8eeb-4dad-9f46-cf65d1f5e646"
      },
      "source": [
        "# Create a function to clean the tweets\r\n",
        "def cleanTxt(text):\r\n",
        " text = re.sub('@[A-Za-z0–9]+', '', text) #Removing @mentions\r\n",
        " text = re.sub('#', '', text) # Removing '#' hash tag\r\n",
        " text = re.sub('RT[\\s]+', '', text) # Removing RT\r\n",
        " text = re.sub('https?:\\/\\/\\S+', '', text) # Removing hyperlink\r\n",
        " \r\n",
        " return text\r\n",
        "\r\n",
        "\r\n",
        "# Clean the tweets\r\n",
        "df['Tweets'] = df['Tweets'].apply(cleanTxt)\r\n",
        "\r\n",
        "# Show the cleaned tweets\r\n",
        "df"
      ],
      "execution_count": 12,
      "outputs": [
        {
          "output_type": "execute_result",
          "data": {
            "text/html": [
              "<div>\n",
              "<style scoped>\n",
              "    .dataframe tbody tr th:only-of-type {\n",
              "        vertical-align: middle;\n",
              "    }\n",
              "\n",
              "    .dataframe tbody tr th {\n",
              "        vertical-align: top;\n",
              "    }\n",
              "\n",
              "    .dataframe thead th {\n",
              "        text-align: right;\n",
              "    }\n",
              "</style>\n",
              "<table border=\"1\" class=\"dataframe\">\n",
              "  <thead>\n",
              "    <tr style=\"text-align: right;\">\n",
              "      <th></th>\n",
              "      <th>Tweets</th>\n",
              "      <th>Subjectivity</th>\n",
              "      <th>Polarity</th>\n",
              "      <th>Analysis</th>\n",
              "    </tr>\n",
              "  </thead>\n",
              "  <tbody>\n",
              "    <tr>\n",
              "      <th>0</th>\n",
              "      <td>Hai Kak, mohon maaf atas kendalanya. Bisa inf...</td>\n",
              "      <td>1.0</td>\n",
              "      <td>0.375</td>\n",
              "      <td>Positive</td>\n",
              "    </tr>\n",
              "    <tr>\n",
              "      <th>1</th>\n",
              "      <td></td>\n",
              "      <td>0.0</td>\n",
              "      <td>0.000</td>\n",
              "      <td>Neutral</td>\n",
              "    </tr>\n",
              "    <tr>\n",
              "      <th>2</th>\n",
              "      <td>Langsung aja cuss, gampang banget caranya 👇</td>\n",
              "      <td>0.0</td>\n",
              "      <td>0.000</td>\n",
              "      <td>Neutral</td>\n",
              "    </tr>\n",
              "    <tr>\n",
              "      <th>3</th>\n",
              "      <td>Langsung aja ikutan kuis di bawah ini, ada Buk...</td>\n",
              "      <td>0.0</td>\n",
              "      <td>0.000</td>\n",
              "      <td>Neutral</td>\n",
              "    </tr>\n",
              "    <tr>\n",
              "      <th>4</th>\n",
              "      <td>Ashiaaaaaap</td>\n",
              "      <td>0.0</td>\n",
              "      <td>0.000</td>\n",
              "      <td>Neutral</td>\n",
              "    </tr>\n",
              "    <tr>\n",
              "      <th>...</th>\n",
              "      <td>...</td>\n",
              "      <td>...</td>\n",
              "      <td>...</td>\n",
              "      <td>...</td>\n",
              "    </tr>\n",
              "    <tr>\n",
              "      <th>195</th>\n",
              "      <td>88 Hai Kak, mohon maaf atas kendalanya. Yuk ka...</td>\n",
              "      <td>1.0</td>\n",
              "      <td>0.375</td>\n",
              "      <td>Positive</td>\n",
              "    </tr>\n",
              "    <tr>\n",
              "      <th>196</th>\n",
              "      <td>Hai kak  , DM Bella di  yuk! ^LLI</td>\n",
              "      <td>0.0</td>\n",
              "      <td>0.000</td>\n",
              "      <td>Neutral</td>\n",
              "    </tr>\n",
              "    <tr>\n",
              "      <th>197</th>\n",
              "      <td>4s_ Cieee cieee 😍</td>\n",
              "      <td>0.0</td>\n",
              "      <td>0.000</td>\n",
              "      <td>Neutral</td>\n",
              "    </tr>\n",
              "    <tr>\n",
              "      <th>198</th>\n",
              "      <td>Muehehe, sama dong!</td>\n",
              "      <td>0.0</td>\n",
              "      <td>0.000</td>\n",
              "      <td>Neutral</td>\n",
              "    </tr>\n",
              "    <tr>\n",
              "      <th>199</th>\n",
              "      <td>Semoga lekas sembuh, kak 🤗</td>\n",
              "      <td>0.0</td>\n",
              "      <td>0.000</td>\n",
              "      <td>Neutral</td>\n",
              "    </tr>\n",
              "  </tbody>\n",
              "</table>\n",
              "<p>200 rows × 4 columns</p>\n",
              "</div>"
            ],
            "text/plain": [
              "                                                Tweets  ...  Analysis\n",
              "0     Hai Kak, mohon maaf atas kendalanya. Bisa inf...  ...  Positive\n",
              "1                                                       ...   Neutral\n",
              "2          Langsung aja cuss, gampang banget caranya 👇  ...   Neutral\n",
              "3    Langsung aja ikutan kuis di bawah ini, ada Buk...  ...   Neutral\n",
              "4                                          Ashiaaaaaap  ...   Neutral\n",
              "..                                                 ...  ...       ...\n",
              "195  88 Hai Kak, mohon maaf atas kendalanya. Yuk ka...  ...  Positive\n",
              "196                  Hai kak  , DM Bella di  yuk! ^LLI  ...   Neutral\n",
              "197                                  4s_ Cieee cieee 😍  ...   Neutral\n",
              "198                               Muehehe, sama dong!   ...   Neutral\n",
              "199                         Semoga lekas sembuh, kak 🤗  ...   Neutral\n",
              "\n",
              "[200 rows x 4 columns]"
            ]
          },
          "metadata": {
            "tags": []
          },
          "execution_count": 12
        }
      ]
    },
    {
      "cell_type": "code",
      "metadata": {
        "colab": {
          "base_uri": "https://localhost:8080/"
        },
        "id": "HVvrMdjJoTPX",
        "outputId": "27b46e9f-505a-465e-c237-b4339ed84050"
      },
      "source": [
        "# Printing positive tweets \r\n",
        "print('Printing positive tweets:\\n')\r\n",
        "j=1\r\n",
        "sortedDF = df.sort_values(by=['Polarity']) #Sort the tweets\r\n",
        "for i in range(0, sortedDF.shape[0] ):\r\n",
        "  if( sortedDF['Analysis'][i] == 'Positive'):\r\n",
        "    print(str(j) + ') '+ sortedDF['Tweets'][i])\r\n",
        "    print()\r\n",
        "    j= j+1"
      ],
      "execution_count": 13,
      "outputs": [
        {
          "output_type": "stream",
          "text": [
            "Printing positive tweets:\n",
            "\n",
            "1)  Hai Kak, mohon maaf atas kendalanya. Bisa infokan nomor transaksi Kakak, ya (contoh: 201*********) atau nomor tagihan Kakak (contoh: BL201******INV) melalui DM ya kak agar dapat Bella bantu lakukan pengecekan lebih lanjut kendala kakak. :) ^IS\n",
            "\n",
            "2) _koe Hai kak, maaf banget ya kak atas kendalanya. Bella sarankan untuk Kakak saat ini mengikuti Syarat dan Ketentuan yang berlaku ya. Namun Kakak tidak perlu khawatir, untuk kedepannya agar Bukalapak dapat memperbaiki promo-promo yang berjalan ya kak :) ^RSA\n",
            "\n",
            "3)  Maaf sebelumnya ya Kak. Bella bantu informasikan nih Kak, jadi maksud dari blacklist yaitu sistemnya yang di blacklist ya bukan akun Kakak, Bella sarankan Kakak untuk bermain kembali pada 3x24 jam kedepan ya. :) ^EW\n",
            "\n",
            "4) 80 Hai kak, mohon maaf atas kendalanya ya kak. Yuk infoin email dan nomor telepon kakak di DM ya biar bisa Bella cek lebih lanjut. :) ^SYAK\n",
            "\n",
            "5)  Hai kak, mohon maaf sebelumnya, terkait pertanyaan kakak, yuk infokan link barang yang kakak maksud lewat DM agar Bella bantu pengecekan ya kak :) ^EP\n",
            "\n",
            "6)  Hai Kak. Cek DM yuk, Bella udah kirim pesan :) ^RRP\n",
            "\n",
            "7)  Hai kak, maaf banget ya atas kendalanya, apakah kendala kakak masih terkait transaksi BL2115W6DI7RINV kak? mohon konfirmasinya ya. Jika iya, yuk konfirmasi lebih lanjut melalui DM agar Bella bantu kelanjutannya ya kak :) ^EP\n",
            "\n",
            "8) _ Baik kak, silakan untuk balas email tim kami dengan jawban yang kakak inginkan ya kak, supaya segera tim kami tangani kembali  :) ^LLNH\n",
            "\n",
            "9)  Hai kak, maaf banget ya atas kendalanya, untuk kendala kakak sudah Bella bantu konfirmasi melalui DM ya kak :) ^EP\n",
            "\n",
            "10) 79 Baik kak maaf banget ya kak udah bikin kakak resah. Terkait dengan kendala kakak mohon lampirkan bukti screenshot refund transaksi Kakak pada DM ya kak agar Bella dapat melakukan pengecekan lebih lanjut kak. Bella tunggu kak:) ^INS\n",
            "\n",
            "11) 79 Maafa atas ketidaknyamanannya. terkait kendala kakak yuk lampirkan screenshot email bukti refund transaksi Kakak pada DM. nanti Bella bantu ya Kak. :) ^FWN\n",
            "\n",
            "12) 79 Mohon maaf banget ya Kak buat kamu kesal. Namun untuk kendala kamu sesuai dengan konfirmasi admin pada kolom diskusi ya Kak, dimana untuk saat ini dana kamu telah dikembalikan ke limit kartu kredit ya :) ^ZL\n",
            "\n",
            "13) Maaf banget bikin kakak kesel 79 mengenai hal tersebut Bella sarankan kakak menghubungi pihak pelapak melalui fitur kirim pesan ya kak. Dan Bella cek dana kakak sudah dikembalikan ke limit kartu kredit kakak ya :) ^Ri\n",
            "\n",
            "14)  Hai Kak, maaf atas kendalanya. Bisa infokan nomor transaksi Kakak, ya (contoh: 201*********) atau nomor tagihan Kakak (contoh: BL201******INV) tapi lewat DM ya agar dapat Bella bantu lakukan pengecekan lebih lanjut, ya Kak. :) ^LLNH\n",
            "\n",
            "15) 79 Mohon maaf Kak bikin kamu nunggu lama dan kesel. Bella ngerti perasaan yang kamu rasain. Bella cek kendala transaksi kamu 203046456376 statusnya sudah dikembalikan ke limit Kartu Kredit kamu 5 Januari 2021. Mohon untuk menunggu dan cek secara berkala ya Kak. :) ^FHH\n",
            "\n",
            "16) Baik kak , maaf atas kendalaya. Bisa bantu infoin ke Bella untuk alamat email dan nomor telepon yang terdaftar di Bukalapak serta bukti screenshot kendala kakak ya melalui Direct Message BukaBantuan ya kak agar Bella .. \n",
            "\n",
            "17)  Hai Kak, duh maaf banget bikin Kakak khawatir ya. Yuk pindah ke DM twitter ceritakan detail kendala kamu dan kirimkan alamat email serta nomer telephon kamu yang terdaftar di aplikasi Bukalapak ya Kak :) ^ZL\n",
            "\n",
            "18)  Mohon maaf ya Kak buat Kakak jadi bete. Namun mohon menunggu respon pelapak terlebih dahulu ya Kak, karena apabila Kakak ingin melakukan pembatalan transaksi maka harus ada persetujuan dari pelapak ya Kak :) ^ZL\n",
            "\n",
            "19)  Yuk cek DM kak sudah Bella bantu :) ^SSR\n",
            "\n",
            "20)  Hai kak, maaf ya atas kendala yang terjadi, terkait kendala kakak agar dapat Bela bantu lebih lanjut, Yuk infoin email dan nomor telepon akun Bukalapak kamu di DM, Bela tunggu ya :) ^KM\n",
            "\n",
            "21) Akan dipilih 5 orang yang beruntung secara acak ya, good luck gaes~ \n",
            "\n",
            "22)  Hai kak selamat sore mohon maaf sduah buat kakak tidak nyaman ya kak, silakan kakak bisa hubungi Bella dari DM twitter agar bisa dijelaskan kembali dengan detil dan agar bisa Bella bantu lebih lanjut ya kak, Bella tunggu kak :) ^ABW\n",
            "\n",
            "23) _  Baik kak, maaf ya kak sebelumnya perihal tersebut saat ini sudah Bella bantu teruskan ke tim terkait dengan nomor pelaporan 25670328. Mohon sedianya untuk menunggu dan melakukan pengecekan secara berkala pada email ibuparmik*****.com ya kakak :) ^NSP\n",
            "\n",
            "24) _  Hi kak, maaf ya atas kendalanya, sebelumnya bisa diinfokan ke Bella untuk nomor telefon dan alamat email yang terdaftar di Bukalapak ya kak :) ^NSP\n",
            "\n",
            "25)  Hi kak, maaf atas kendalanya ya kak. Bella sudah bantu melalui inbox ya kak, yuk cek inbox kakak lagi :) ^-\n",
            "\n",
            "26) _doan Hai Kak. Mohon maaf kendalanya bikin kamu nggak nyaman. Mengenai kendala bayar BPJSnya DM Bella nomor tagihannya ya biar bisa Bella segera bantu atasi. :) ^FHH\n",
            "\n",
            "27) _romy Hai kak selamat pagi mohon maaf atas kendala pada pengiriman kakak, bisa Bella informasikan kak bahwa hal tersebut kakak silakan bisa konfirmasi langsung kepada pihak ekspedisi terkait agar bisa segera ditindak lanjuti lebih cepat ya kak :) ^ABW\n",
            "\n",
            "28) 32 Hai Kak, maaf nih bikin Kakak bertanya-tanya. Dapat Bella informasikan bahwa untuk nomer 62812***67012 memang nomer dari mitra Bukalapak ya Kak. Apakah ada kendala Kak? Jika iya bisa sampaikan ke Bella melalui DM twitter ya Kak :) ^ZL\n",
            "\n",
            "29)  Hai kak, maaf atas kendala yang terjadi ya, agar Bela bantu lebih lanjut, Yuk Bela tunggu di DM ya :) ^KM\n",
            "\n",
            "30) @_speedboi Baik Kak, dapat Bella informasikan untuk pencairan dari bank BNI bisa di proses hari Senin ya Kak :) ^ZL\n",
            "\n",
            "31) @_speedboi Baik kak dengan senang hati Bella informasikan untuk proses pencairan tetap di hari selasa ya kak jika dari BCA :) ^ABW\n",
            "\n",
            "32) @_speedboi Hai kak selamat siang dengan senang hati Bella informasikan kak bahwa jika kakak melakukan pencairan ke Bank BCA pada hari minggu akan diproses pada hari selasa ya kak, silakan lebih baik kakak bisa menunggu hingga hari selasa dahulu saja ya kak :) ^ABW\n",
            "\n",
            "33)  Hai kak selamat pagi mohon maaf atas kendala pada akun kakak yang tidak menerima kode OTP tersebut ya kak, bisa Bella bantu namun silakan kakak bisa informasikan data verifikasi di akun Bukalapak kakak melalui DM twitter ya kak, Bella tunggu kak :) ^ABW\n",
            "\n",
            "34)  Hai kak selamat pagi mohon maaf atas kendala pada transaksi kakak yang menggunakan LinkAja ya kak, agar bisa Bella bantu lebih lanjut silakan kakak bisa segera hubungi Bella melalui DM twitter ya kak agar bisa Bella bantu segera, Bella tunggu kak :) ^ABW\n",
            "\n",
            "35)  Hai Kak, maaf ya buat kamu khawatir. Yuk infokan terlebih dahulu untuk alamat email serta nomer telephon Kakak yang terdaftar di aplikasi Bukalapak melalui DM twitter ya Kak. Supaya Bella bisa lakukan pengecekan lebih lanjut, Bella tunggu di DM ya Kak :) ^ZL\n",
            "\n",
            "36)  Baik Kak, terimakasih atas kesabarannya menunggu ya Kak. Semoga kendala Kakak bisa segera terselesaikan, silahkan lakukan pengecekan email secara berkala ya Kak :) ^ZL\n",
            "\n",
            "37)  Mohon maaf atas kendalanya ya Kak, Bella cek kendala Kakak saat ini masih dalam penanganan tim terkait kami di nomor pelaporan 25656670 ya. Mohon kesediannya untuk menunggu konfirmasi dari tim terkait kami terlebih dahulu ya Kak. :) ^EW\n",
            "\n",
            "38)  Hai Kak, maaf ya buat kamu ngga nyaman. Terkait kendala Kakak untuk nomer transaksi 203043426361 sudah Bella bantu sampaikan ke tim terkait untuk penanganan lebih lanjut ya Kak, mohon kesabarannya dan semoga kendala Kakak bisa segera terselesaikan ya :) ^ZL\n",
            "\n",
            "39)  Yuk cek DM kak, sudah Bella balas :) ^HD\n",
            "\n",
            "40)  Siap kakak, sudah Bella balas kembali ya kak :) ^EP\n",
            "\n",
            "41)  Oke kak, sudah Bella balas ya DMnya, yuk dicek kembali kak :) ^EP\n",
            "\n",
            "42)  Hai kak, maaf banget ya atas kendalanya. Yuk informasikan nomor transaksi (contoh: 202*********) atau nomor tagihan kamu (contoh: BL201******INV) lewat DM, agar dapat Bella bantu lakukan pengecekan ya :) ^EP\n",
            "\n",
            "43)  Hai kak, mohon maaf ya kak terkait hal tersebut Bella belum bisa memastikan. Silakan kakak melakukan pengecekan secara berkala pada aplikasi Bukalapak ya kak :) ^EP\n",
            "\n",
            "44) _Semm Hai kak, mohon maaf atas ketidaknyamannya ya kak. Yuk infoin kendala kakak di DM ya kak biar bisa ngobrol lebih nyaman. :) ^SYAK\n",
            "\n",
            "45) 12 First juga gakni? 👀😝\n",
            "\n",
            "46) 1 Baik kak :) ^-\n",
            "\n",
            "47) 1 Hai Kak, siap dong Bella meluncur ke DM ya. Yuk ceritakan detail kendala kamu ke Bella lewat DM ya :) ^ZL\n",
            "\n",
            "48)  Baik kak, maaf banget ya kak, Bella cek untuk nomor tersebut bukan nomor Bukalapak ya, apakah kakak dihubungi oleh yang mengatasnamakan Bukalapak kak? yuk infoin detail kronologinya lewat DM, agar Bella bantu cek lebih lanjut ya kak :) ^EP\n",
            "\n",
            "49) _dy Maaf ya kak mengenai kendala yang terjadi, namun Bella sarankan kakak untuk mencoba lagi secara berkala  fitur roda halu pada 3x24 jam ke depan melalui aplikasi Bukalapak kakak ya. :) ^IS\n",
            "\n",
            "50) _dy Mohon maaf atas ketidaknyamanannya. Untuk saat ini sedang ada peningkatan pada sistem roda halu, yang menyebabkan Kakak mendapatkan Zonk terus menerus. Mohon melakukan percobaan kembali secara berkala ya Kak. :) ^FWN\n",
            "\n",
            "51) _ Hai kak, mohon maaf atas kendala kamu ya. Yuk infoin nomor tagihan atau nomor transaksinya di DM ya biar Bella cek lebih lanjut. :) ^SYAK\n",
            "\n",
            "52) 19 Pantengin media social Bukalapak terus yuk kak untuk tau hadiah apa aja yang bukalapak bakal kasih ke kamu:) ^INS\n",
            "\n",
            "53) _anestesi Baik kak sama-sama. Kedepannya jika ada kendala terkait Bukalapak bisa menghubungi Bella kembali ya kak. :) ^DA\n",
            "\n",
            "54) _anestesi Baik kak, dengan senang hati akan Bella infokan ya. Mengenai lampiran yang kakak kirimkan, nomor tersebut bukan nomor resri dari Bukalapak ya kak. Mohon untuk tidak mengikuti arahan apapun dari pengguna nomor tersebut ya kak. :) ^SYAK\n",
            "\n",
            "55) Hai kak 19 Ada yang bisa Bella bantu? perihal kendala kakak atau ingin mengetahui informasi seputar Bukalapak silakan infokan ke Bella secara detail ya kak agar Bella bantu cek lebih lanjut :) ^DVT\n",
            "\n",
            "56) 60819 Hai kak selamat malam, iya kak sama-sama kak Bella juga mengucapkan banyak terimakasih ya kak atas apresiasi kakak semoga juga kakak juga diberikan kabar baru yang membahagiakan di tahun baru esok ya kak, mari kita buka lembaran baru kak :) ^ABW\n",
            "\n",
            "57)  Hai Kak, dengan senang hati Bella bantu informasikan nih Kak. Bahwa untuk jasa expedisi paxel masih bisa digunakan dalam Bukalapak ya Kak. :) ^EW\n",
            "\n",
            "58)  Hai kak, maaf ya bikin ngga nyaman. Yuk lampirin screenshot kendalanya lewat DM ya. Bella tunggu ya kak :) ^LLNH\n",
            "\n",
            "59)  Hai kak, maaf ya bikin ngga nyaman. Terkait kendala kakak disini bermaksud melakukan pembatalan transaksi begitu kak. Yuk infoin selengkapnya lewat DM ya, bisa Bella cek kembali lebih lanjut :) ^LLNH\n",
            "\n",
            "60)  Selamat siang kak, yuk cek DMnya sudah Bella balas :) ^HD\n",
            "\n",
            "61)  Oke kak, Bella udah bales DM kamu nih. Cek yuk DMnya kak. ;) ^RO\n",
            "\n",
            "62)  Hai Kak. Baik. Silakan informasikan detail pertanyaan atau kendala kamu di DM ya biar Bella bantu lebih lanjut. Bella tunggu DMnya ya. :) ^FHH\n",
            "\n",
            "63)  Oke kak. Bella udah bales DM kamu nih. Yuk dicek DMnya kak. ;) ^RO\n",
            "\n",
            "64) _Himura Hai Kak. Mohon maaf atas kendalanya. Untuk informsi lengkap terkait kendala kamu. Yuk pindah ke DM kak. Bella tunggu ya kak. :) ^RO\n",
            "\n",
            "65)  Hai kak selamat pagi mohon maaf atas kendala kakak tersebut ya, bisa Bella bantu lebih lanjut kak namun silakan kakak bisa hubungi Bella kembali melalui DM twitter ya kak agar bisa Bella bantu lebih lanjut kak :) ^ABW\n",
            "\n",
            "66)  wkwkwk sa ae tukang uler :D ^ABW\n",
            "\n",
            "67)  Hihi kalo ular ada kakinya ntar kaki kakak bisa digigit dong kak :D ^ABW\n",
            "\n",
            "68) Gaes main tebak-tebakan yuk~ Coba yang punya tebak-tebakan, langsung reply tweet ini 👇🤪\n",
            "\n",
            "69) 88 Hai Kak, mohon maaf atas kendalanya. Yuk kak DM Bella dengan  infokan nomor transaksi Kakak, ya (contoh: 201*********) atau nomor tagihan Kakak (contoh: BL201******INV) agar dapat Bella bantu lakukan pengecekan lebih lanjut, ya Kak. :) ^IS\n",
            "\n"
          ],
          "name": "stdout"
        }
      ]
    },
    {
      "cell_type": "code",
      "metadata": {
        "colab": {
          "base_uri": "https://localhost:8080/"
        },
        "id": "eFKJG1dgoaCf",
        "outputId": "e57f233e-0244-400a-b4cf-0610bc36a61a"
      },
      "source": [
        "# Printing negative tweets  \r\n",
        "print('Printing negative tweets:\\n')\r\n",
        "j=1\r\n",
        "sortedDF = df.sort_values(by=['Polarity'],ascending=False) #Sort the tweets\r\n",
        "for i in range(0, sortedDF.shape[0] ):\r\n",
        "  if( sortedDF['Analysis'][i] == 'Negative'):\r\n",
        "    print(str(j) + ') '+sortedDF['Tweets'][i])\r\n",
        "    print()\r\n",
        "    j=j+1"
      ],
      "execution_count": 14,
      "outputs": [
        {
          "output_type": "stream",
          "text": [
            "Printing negative tweets:\n",
            "\n",
            "1)  Hai Kak, duh maaf banget nih Kak jadi buat Kakak resah menunggu ya. Bella cek untuk nomer transaksi 203047387326 memang masih di proses oleh pelapak dari tanggal 01 Januari 2021 pukul 12:00 WIB ya Kak. Mohon kese.. \n",
            "\n",
            "2)  Hai Kak, duh maaf banget yah. Kakak gak perlu khawatir, Bella akan selalu membantu Kakak. Infoin ke Bella detail kendalanya di DM yuk Kak serta infokan juga alamat email dan nomor telepon yang terdaftar di akun Bukal.. \n",
            "\n",
            "3) _Hidayat Asik asik, lagi namatin game apa nih emangnya? 🎮\n",
            "\n",
            "4) Besok udah long weekend lagi, rencana kamu mau ngapain nih? 👀\n",
            "\n"
          ],
          "name": "stdout"
        }
      ]
    },
    {
      "cell_type": "code",
      "metadata": {
        "colab": {
          "base_uri": "https://localhost:8080/",
          "height": 405
        },
        "id": "7EZk43Nnodzp",
        "outputId": "0d0b9d15-a8a0-44e1-d5ea-5d88108f9fac"
      },
      "source": [
        "# Plotting \r\n",
        "plt.figure(figsize=(8,6)) \r\n",
        "for i in range(0, df.shape[0]):\r\n",
        "  plt.scatter(df[\"Polarity\"][i], df[\"Subjectivity\"][i], color='Green') \r\n",
        "# plt.scatter(x,y,color)   \r\n",
        "plt.title('Sentiment Analysis') \r\n",
        "plt.xlabel('Polarity') \r\n",
        "plt.ylabel('Subjectivity') \r\n",
        "plt.show()"
      ],
      "execution_count": 15,
      "outputs": [
        {
          "output_type": "display_data",
          "data": {
            "image/png": "[encoded data removed]",
            "text/plain": [
              "<Figure size 576x432 with 1 Axes>"
            ]
          },
          "metadata": {
            "tags": [],
            "needs_background": "light"
          }
        }
      ]
    },
    {
      "cell_type": "code",
      "metadata": {
        "colab": {
          "base_uri": "https://localhost:8080/"
        },
        "id": "ucvTPzIAoj5M",
        "outputId": "2241da61-c281-4a29-8269-ee0be3419109"
      },
      "source": [
        "# Print the percentage of positive tweets\r\n",
        "ptweets = df[df.Analysis == 'Positive']\r\n",
        "ptweets = ptweets['Tweets']\r\n",
        "ptweets\r\n",
        "\r\n",
        "round( (ptweets.shape[0] / df.shape[0]) * 100 , 1)"
      ],
      "execution_count": 16,
      "outputs": [
        {
          "output_type": "execute_result",
          "data": {
            "text/plain": [
              "34.5"
            ]
          },
          "metadata": {
            "tags": []
          },
          "execution_count": 16
        }
      ]
    },
    {
      "cell_type": "code",
      "metadata": {
        "colab": {
          "base_uri": "https://localhost:8080/"
        },
        "id": "CXDwZpIwoqve",
        "outputId": "afdf1a50-558b-473f-840b-3fdebe2a0a67"
      },
      "source": [
        "# Print the percentage of negative tweets\r\n",
        "ntweets = df[df.Analysis == 'Negative']\r\n",
        "ntweets = ntweets['Tweets']\r\n",
        "ntweets\r\n",
        "\r\n",
        "round( (ntweets.shape[0] / df.shape[0]) * 100, 1)\r\n"
      ],
      "execution_count": 17,
      "outputs": [
        {
          "output_type": "execute_result",
          "data": {
            "text/plain": [
              "2.0"
            ]
          },
          "metadata": {
            "tags": []
          },
          "execution_count": 17
        }
      ]
    },
    {
      "cell_type": "code",
      "metadata": {
        "colab": {
          "base_uri": "https://localhost:8080/"
        },
        "id": "RuCf2r6aou8d",
        "outputId": "9f8e6145-4d7a-43de-ecaa-31ccee9aa211"
      },
      "source": [
        "# Show the value counts\r\n",
        "df['Analysis'].value_counts()"
      ],
      "execution_count": 18,
      "outputs": [
        {
          "output_type": "execute_result",
          "data": {
            "text/plain": [
              "Neutral     127\n",
              "Positive     69\n",
              "Negative      4\n",
              "Name: Analysis, dtype: int64"
            ]
          },
          "metadata": {
            "tags": []
          },
          "execution_count": 18
        }
      ]
    }
  ]
}