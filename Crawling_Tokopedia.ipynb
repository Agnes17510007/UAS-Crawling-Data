{
  "nbformat": 4,
  "nbformat_minor": 0,
  "metadata": {
    "colab": {
      "name": "Crawling Tokopedia.ipynb",
      "provenance": [],
      "collapsed_sections": []
    },
    "kernelspec": {
      "name": "python3",
      "display_name": "Python 3"
    }
  },
  "cells": [
    {
      "cell_type": "code",
      "metadata": {
        "id": "sdNNOluPk4YP"
      },
      "source": [
        "# Import the libraries\r\n",
        "import tweepy\r\n",
        "from textblob import TextBlob\r\n",
        "from wordcloud import WordCloud\r\n",
        "import pandas as pd\r\n",
        "import numpy as np\r\n",
        "import re\r\n",
        "import matplotlib.pyplot as plt\r\n",
        "plt.style.use('fivethirtyeight')"
      ],
      "execution_count": 1,
      "outputs": []
    },
    {
      "cell_type": "code",
      "metadata": {
        "id": "9Jzghz4Gk8Hh"
      },
      "source": [
        "# Twitter Api Credentials\r\n",
        "consumerKey = \"XhdYabVocmqWCex5hCD8jBD9h\"\r\n",
        "consumerSecret = \"NRyh3oOKMDHgSBh7htAB3T8Uzii7ffL3EBsNM5LGLEvG1JZkq7\"\r\n",
        "accessToken = \"1232645972313796609-6wXttbepUkycE9TFuRIaa3W9c5iLQy\"\r\n",
        "accessTokenSecret = \"KDLUnTGBnAeqGa9cbUaNu0OAYXYLJQ4h9cyYgVz2Cyk5u\"\r\n",
        "\r\n",
        "# Create the authentication object\r\n",
        "authenticate = tweepy.OAuthHandler(consumerKey, consumerSecret) \r\n",
        "    \r\n",
        "# Set the access token and access token secret\r\n",
        "authenticate.set_access_token(accessToken, accessTokenSecret) \r\n",
        "    \r\n",
        "# Creating the API object while passing in auth information\r\n",
        "api = tweepy.API(authenticate, wait_on_rate_limit = True)\r\n"
      ],
      "execution_count": 3,
      "outputs": []
    },
    {
      "cell_type": "code",
      "metadata": {
        "colab": {
          "base_uri": "https://localhost:8080/"
        },
        "id": "mvLo2y3QlFMv",
        "outputId": "36445fc1-b6c8-4d28-cbe4-f8ebecbcc660"
      },
      "source": [
        "# Extract 1000 tweets from the twitter user\r\n",
        "posts = api.user_timeline(screen_name=\"tokopedia\", count = 1000, lang =\"en\", tweet_mode=\"extended\")\r\n",
        "\r\n",
        "#  Print the last 5 tweets\r\n",
        "print(\"Show the 5 recent tweets:\\n\")\r\n",
        "i=1\r\n",
        "for tweet in posts[:5]:\r\n",
        "    print(str(i) +') '+ tweet.full_text + '\\n')\r\n",
        "    i= i+1"
      ],
      "execution_count": 4,
      "outputs": [
        {
          "output_type": "stream",
          "text": [
            "Show the 5 recent tweets:\n",
            "\n",
            "1) GIVEAWAY                          GIVEAWAY\n",
            "ALBUM                                LIGHTSTICK https://t.co/wuccKsQZU1\n",
            "\n",
            "2) Belanja elektronik harga bersahabat,\n",
            "bikin kerja jadi makin giat!\n",
            "Ada diskon hingga 60% dan cashback hingga 200ribu\n",
            "\n",
            "Cek di sini:\n",
            "https://t.co/DJZMMNpWzo https://t.co/nwduAYeTII\n",
            "\n",
            "3) Di rumah aja tetap gaya dengan fashion terbaru yang bisa kamu dapatkan dengan cashback hingga Rp70Rb. Temukan gaya favoritmu di https://t.co/2KblBLyiEh\n",
            "_\n",
            "#Fashion\n",
            "\n",
            "4) Masker Case + Free Bottle - Rp64.900\n",
            "https://t.co/4oILKsKy26 https://t.co/lUJWCMrCOD\n",
            "\n",
            "5) masker Case Motif - Rp30.000\n",
            "https://t.co/HZomjbkdES https://t.co/mNZzlzG65U\n",
            "\n"
          ],
          "name": "stdout"
        }
      ]
    },
    {
      "cell_type": "code",
      "metadata": {
        "colab": {
          "base_uri": "https://localhost:8080/",
          "height": 204
        },
        "id": "OxG8oui2lVRc",
        "outputId": "5ae51e81-bd39-4a7b-bfb5-527a6f610705"
      },
      "source": [
        "# Create a dataframe with a column called Tweets\r\n",
        "df = pd.DataFrame([tweet.full_text for tweet in posts], columns=['Tweets'])\r\n",
        "# Show the first 10 rows of data\r\n",
        "df.head()"
      ],
      "execution_count": 5,
      "outputs": [
        {
          "output_type": "execute_result",
          "data": {
            "text/html": [
              "<div>\n",
              "<style scoped>\n",
              "    .dataframe tbody tr th:only-of-type {\n",
              "        vertical-align: middle;\n",
              "    }\n",
              "\n",
              "    .dataframe tbody tr th {\n",
              "        vertical-align: top;\n",
              "    }\n",
              "\n",
              "    .dataframe thead th {\n",
              "        text-align: right;\n",
              "    }\n",
              "</style>\n",
              "<table border=\"1\" class=\"dataframe\">\n",
              "  <thead>\n",
              "    <tr style=\"text-align: right;\">\n",
              "      <th></th>\n",
              "      <th>Tweets</th>\n",
              "    </tr>\n",
              "  </thead>\n",
              "  <tbody>\n",
              "    <tr>\n",
              "      <th>0</th>\n",
              "      <td>GIVEAWAY                          GIVEAWAY\\nAL...</td>\n",
              "    </tr>\n",
              "    <tr>\n",
              "      <th>1</th>\n",
              "      <td>Belanja elektronik harga bersahabat,\\nbikin ke...</td>\n",
              "    </tr>\n",
              "    <tr>\n",
              "      <th>2</th>\n",
              "      <td>Di rumah aja tetap gaya dengan fashion terbaru...</td>\n",
              "    </tr>\n",
              "    <tr>\n",
              "      <th>3</th>\n",
              "      <td>Masker Case + Free Bottle - Rp64.900\\nhttps://...</td>\n",
              "    </tr>\n",
              "    <tr>\n",
              "      <th>4</th>\n",
              "      <td>masker Case Motif - Rp30.000\\nhttps://t.co/HZo...</td>\n",
              "    </tr>\n",
              "  </tbody>\n",
              "</table>\n",
              "</div>"
            ],
            "text/plain": [
              "                                              Tweets\n",
              "0  GIVEAWAY                          GIVEAWAY\\nAL...\n",
              "1  Belanja elektronik harga bersahabat,\\nbikin ke...\n",
              "2  Di rumah aja tetap gaya dengan fashion terbaru...\n",
              "3  Masker Case + Free Bottle - Rp64.900\\nhttps://...\n",
              "4  masker Case Motif - Rp30.000\\nhttps://t.co/HZo..."
            ]
          },
          "metadata": {
            "tags": []
          },
          "execution_count": 5
        }
      ]
    },
    {
      "cell_type": "code",
      "metadata": {
        "colab": {
          "base_uri": "https://localhost:8080/",
          "height": 419
        },
        "id": "_c1-a6PsljPg",
        "outputId": "10d83fa7-f89e-4014-91a3-b7ebbf70c417"
      },
      "source": [
        "# Create a function to clean the tweets\r\n",
        "def cleanTxt(text):\r\n",
        " text = re.sub('@[A-Za-z0–9]+', '', text) #Removing @mentions\r\n",
        " text = re.sub('#', '', text) # Removing '#' hash tag\r\n",
        " text = re.sub('RT[\\s]+', '', text) # Removing RT\r\n",
        " text = re.sub('https?:\\/\\/\\S+', '', text) # Removing hyperlink\r\n",
        " \r\n",
        " return text\r\n",
        "\r\n",
        "\r\n",
        "# Clean the tweets\r\n",
        "df['Tweets'] = df['Tweets'].apply(cleanTxt)\r\n",
        "\r\n",
        "# Show the cleaned tweets\r\n",
        "df"
      ],
      "execution_count": 6,
      "outputs": [
        {
          "output_type": "execute_result",
          "data": {
            "text/html": [
              "<div>\n",
              "<style scoped>\n",
              "    .dataframe tbody tr th:only-of-type {\n",
              "        vertical-align: middle;\n",
              "    }\n",
              "\n",
              "    .dataframe tbody tr th {\n",
              "        vertical-align: top;\n",
              "    }\n",
              "\n",
              "    .dataframe thead th {\n",
              "        text-align: right;\n",
              "    }\n",
              "</style>\n",
              "<table border=\"1\" class=\"dataframe\">\n",
              "  <thead>\n",
              "    <tr style=\"text-align: right;\">\n",
              "      <th></th>\n",
              "      <th>Tweets</th>\n",
              "    </tr>\n",
              "  </thead>\n",
              "  <tbody>\n",
              "    <tr>\n",
              "      <th>0</th>\n",
              "      <td>GIVEAWAY                          GIVEAWAY\\nAL...</td>\n",
              "    </tr>\n",
              "    <tr>\n",
              "      <th>1</th>\n",
              "      <td>Belanja elektronik harga bersahabat,\\nbikin ke...</td>\n",
              "    </tr>\n",
              "    <tr>\n",
              "      <th>2</th>\n",
              "      <td>Di rumah aja tetap gaya dengan fashion terbaru...</td>\n",
              "    </tr>\n",
              "    <tr>\n",
              "      <th>3</th>\n",
              "      <td>Masker Case + Free Bottle - Rp64.900\\n</td>\n",
              "    </tr>\n",
              "    <tr>\n",
              "      <th>4</th>\n",
              "      <td>masker Case Motif - Rp30.000\\n</td>\n",
              "    </tr>\n",
              "    <tr>\n",
              "      <th>...</th>\n",
              "      <td>...</td>\n",
              "    </tr>\n",
              "    <tr>\n",
              "      <th>195</th>\n",
              "      <td>Yang hobi baca buku mana suaranya? Kamu bisa d...</td>\n",
              "    </tr>\n",
              "    <tr>\n",
              "      <th>196</th>\n",
              "      <td>Dear 2021 semoga aku lebih sering checkout bar...</td>\n",
              "    </tr>\n",
              "    <tr>\n",
              "      <th>197</th>\n",
              "      <td>Pagi! Siapa nih artis favorit kamu selama Toko...</td>\n",
              "    </tr>\n",
              "    <tr>\n",
              "      <th>198</th>\n",
              "      <td>Lagi nyari kebutuhan kendaraan di akhir tahun?...</td>\n",
              "    </tr>\n",
              "    <tr>\n",
              "      <th>199</th>\n",
              "      <td>: MY DAY! Masih ada 2 Official Album DAY6 (Eve...</td>\n",
              "    </tr>\n",
              "  </tbody>\n",
              "</table>\n",
              "<p>200 rows × 1 columns</p>\n",
              "</div>"
            ],
            "text/plain": [
              "                                                Tweets\n",
              "0    GIVEAWAY                          GIVEAWAY\\nAL...\n",
              "1    Belanja elektronik harga bersahabat,\\nbikin ke...\n",
              "2    Di rumah aja tetap gaya dengan fashion terbaru...\n",
              "3              Masker Case + Free Bottle - Rp64.900\\n \n",
              "4                      masker Case Motif - Rp30.000\\n \n",
              "..                                                 ...\n",
              "195  Yang hobi baca buku mana suaranya? Kamu bisa d...\n",
              "196  Dear 2021 semoga aku lebih sering checkout bar...\n",
              "197  Pagi! Siapa nih artis favorit kamu selama Toko...\n",
              "198  Lagi nyari kebutuhan kendaraan di akhir tahun?...\n",
              "199  : MY DAY! Masih ada 2 Official Album DAY6 (Eve...\n",
              "\n",
              "[200 rows x 1 columns]"
            ]
          },
          "metadata": {
            "tags": []
          },
          "execution_count": 6
        }
      ]
    },
    {
      "cell_type": "code",
      "metadata": {
        "colab": {
          "base_uri": "https://localhost:8080/",
          "height": 419
        },
        "id": "rOX-gY5HloJw",
        "outputId": "f15473d6-006e-43b2-a939-21e1a749ed9e"
      },
      "source": [
        "# Create a function to get the subjectivity\r\n",
        "def getSubjectivity(text):\r\n",
        "   return TextBlob(text).sentiment.subjectivity\r\n",
        "\r\n",
        "# Create a function to get the polarity\r\n",
        "def getPolarity(text):\r\n",
        "   return  TextBlob(text).sentiment.polarity\r\n",
        "\r\n",
        "\r\n",
        "# Create two new columns 'Subjectivity' & 'Polarity'\r\n",
        "df['Subjectivity'] = df['Tweets'].apply(getSubjectivity)\r\n",
        "df['Polarity'] = df['Tweets'].apply(getPolarity)\r\n",
        "\r\n",
        "# Show the new dataframe with columns 'Subjectivity' & 'Polarity'\r\n",
        "df"
      ],
      "execution_count": 7,
      "outputs": [
        {
          "output_type": "execute_result",
          "data": {
            "text/html": [
              "<div>\n",
              "<style scoped>\n",
              "    .dataframe tbody tr th:only-of-type {\n",
              "        vertical-align: middle;\n",
              "    }\n",
              "\n",
              "    .dataframe tbody tr th {\n",
              "        vertical-align: top;\n",
              "    }\n",
              "\n",
              "    .dataframe thead th {\n",
              "        text-align: right;\n",
              "    }\n",
              "</style>\n",
              "<table border=\"1\" class=\"dataframe\">\n",
              "  <thead>\n",
              "    <tr style=\"text-align: right;\">\n",
              "      <th></th>\n",
              "      <th>Tweets</th>\n",
              "      <th>Subjectivity</th>\n",
              "      <th>Polarity</th>\n",
              "    </tr>\n",
              "  </thead>\n",
              "  <tbody>\n",
              "    <tr>\n",
              "      <th>0</th>\n",
              "      <td>GIVEAWAY                          GIVEAWAY\\nAL...</td>\n",
              "      <td>0.0</td>\n",
              "      <td>0.0</td>\n",
              "    </tr>\n",
              "    <tr>\n",
              "      <th>1</th>\n",
              "      <td>Belanja elektronik harga bersahabat,\\nbikin ke...</td>\n",
              "      <td>0.0</td>\n",
              "      <td>0.0</td>\n",
              "    </tr>\n",
              "    <tr>\n",
              "      <th>2</th>\n",
              "      <td>Di rumah aja tetap gaya dengan fashion terbaru...</td>\n",
              "      <td>0.0</td>\n",
              "      <td>0.0</td>\n",
              "    </tr>\n",
              "    <tr>\n",
              "      <th>3</th>\n",
              "      <td>Masker Case + Free Bottle - Rp64.900\\n</td>\n",
              "      <td>0.8</td>\n",
              "      <td>0.4</td>\n",
              "    </tr>\n",
              "    <tr>\n",
              "      <th>4</th>\n",
              "      <td>masker Case Motif - Rp30.000\\n</td>\n",
              "      <td>0.0</td>\n",
              "      <td>0.0</td>\n",
              "    </tr>\n",
              "    <tr>\n",
              "      <th>...</th>\n",
              "      <td>...</td>\n",
              "      <td>...</td>\n",
              "      <td>...</td>\n",
              "    </tr>\n",
              "    <tr>\n",
              "      <th>195</th>\n",
              "      <td>Yang hobi baca buku mana suaranya? Kamu bisa d...</td>\n",
              "      <td>0.0</td>\n",
              "      <td>0.0</td>\n",
              "    </tr>\n",
              "    <tr>\n",
              "      <th>196</th>\n",
              "      <td>Dear 2021 semoga aku lebih sering checkout bar...</td>\n",
              "      <td>0.0</td>\n",
              "      <td>0.0</td>\n",
              "    </tr>\n",
              "    <tr>\n",
              "      <th>197</th>\n",
              "      <td>Pagi! Siapa nih artis favorit kamu selama Toko...</td>\n",
              "      <td>0.0</td>\n",
              "      <td>0.0</td>\n",
              "    </tr>\n",
              "    <tr>\n",
              "      <th>198</th>\n",
              "      <td>Lagi nyari kebutuhan kendaraan di akhir tahun?...</td>\n",
              "      <td>0.0</td>\n",
              "      <td>0.0</td>\n",
              "    </tr>\n",
              "    <tr>\n",
              "      <th>199</th>\n",
              "      <td>: MY DAY! Masih ada 2 Official Album DAY6 (Eve...</td>\n",
              "      <td>0.0</td>\n",
              "      <td>0.0</td>\n",
              "    </tr>\n",
              "  </tbody>\n",
              "</table>\n",
              "<p>200 rows × 3 columns</p>\n",
              "</div>"
            ],
            "text/plain": [
              "                                                Tweets  Subjectivity  Polarity\n",
              "0    GIVEAWAY                          GIVEAWAY\\nAL...           0.0       0.0\n",
              "1    Belanja elektronik harga bersahabat,\\nbikin ke...           0.0       0.0\n",
              "2    Di rumah aja tetap gaya dengan fashion terbaru...           0.0       0.0\n",
              "3              Masker Case + Free Bottle - Rp64.900\\n            0.8       0.4\n",
              "4                      masker Case Motif - Rp30.000\\n            0.0       0.0\n",
              "..                                                 ...           ...       ...\n",
              "195  Yang hobi baca buku mana suaranya? Kamu bisa d...           0.0       0.0\n",
              "196  Dear 2021 semoga aku lebih sering checkout bar...           0.0       0.0\n",
              "197  Pagi! Siapa nih artis favorit kamu selama Toko...           0.0       0.0\n",
              "198  Lagi nyari kebutuhan kendaraan di akhir tahun?...           0.0       0.0\n",
              "199  : MY DAY! Masih ada 2 Official Album DAY6 (Eve...           0.0       0.0\n",
              "\n",
              "[200 rows x 3 columns]"
            ]
          },
          "metadata": {
            "tags": []
          },
          "execution_count": 7
        }
      ]
    },
    {
      "cell_type": "code",
      "metadata": {
        "colab": {
          "base_uri": "https://localhost:8080/",
          "height": 248
        },
        "id": "zmt5lzz2ltQC",
        "outputId": "ee4b2b6e-650a-4ec4-dd45-a433bd031cdb"
      },
      "source": [
        "# word cloud visualization\r\n",
        "allWords = ' '.join([twts for twts in df['Tweets']])\r\n",
        "wordCloud = WordCloud(width=500, height=300, random_state=21, max_font_size=110).generate(allWords)\r\n",
        "\r\n",
        "\r\n",
        "plt.imshow(wordCloud, interpolation=\"bilinear\")\r\n",
        "plt.axis('off')\r\n",
        "plt.show()"
      ],
      "execution_count": 8,
      "outputs": [
        {
          "output_type": "display_data",
          "data": {
            "image/png": "[encoded data removed]",
            "text/plain": [
              "<Figure size 432x288 with 1 Axes>"
            ]
          },
          "metadata": {
            "tags": [],
            "needs_background": "light"
          }
        }
      ]
    },
    {
      "cell_type": "code",
      "metadata": {
        "colab": {
          "base_uri": "https://localhost:8080/",
          "height": 419
        },
        "id": "HNvn0isVlzre",
        "outputId": "67ca54bf-b233-4c0e-8eba-6231d9738ee8"
      },
      "source": [
        "# Create a function to compute negative (-1), neutral (0) and positive (+1) analysis\r\n",
        "def getAnalysis(score):\r\n",
        "\r\n",
        "    \r\n",
        " if score < 0:\r\n",
        "  return 'Negative'\r\n",
        " elif score == 0:\r\n",
        "  return 'Neutral'\r\n",
        " else:\r\n",
        "  return 'Positive'\r\n",
        "df['Analysis'] = df['Polarity'].apply(getAnalysis)\r\n",
        "# Show the dataframe\r\n",
        "df"
      ],
      "execution_count": 9,
      "outputs": [
        {
          "output_type": "execute_result",
          "data": {
            "text/html": [
              "<div>\n",
              "<style scoped>\n",
              "    .dataframe tbody tr th:only-of-type {\n",
              "        vertical-align: middle;\n",
              "    }\n",
              "\n",
              "    .dataframe tbody tr th {\n",
              "        vertical-align: top;\n",
              "    }\n",
              "\n",
              "    .dataframe thead th {\n",
              "        text-align: right;\n",
              "    }\n",
              "</style>\n",
              "<table border=\"1\" class=\"dataframe\">\n",
              "  <thead>\n",
              "    <tr style=\"text-align: right;\">\n",
              "      <th></th>\n",
              "      <th>Tweets</th>\n",
              "      <th>Subjectivity</th>\n",
              "      <th>Polarity</th>\n",
              "      <th>Analysis</th>\n",
              "    </tr>\n",
              "  </thead>\n",
              "  <tbody>\n",
              "    <tr>\n",
              "      <th>0</th>\n",
              "      <td>GIVEAWAY                          GIVEAWAY\\nAL...</td>\n",
              "      <td>0.0</td>\n",
              "      <td>0.0</td>\n",
              "      <td>Neutral</td>\n",
              "    </tr>\n",
              "    <tr>\n",
              "      <th>1</th>\n",
              "      <td>Belanja elektronik harga bersahabat,\\nbikin ke...</td>\n",
              "      <td>0.0</td>\n",
              "      <td>0.0</td>\n",
              "      <td>Neutral</td>\n",
              "    </tr>\n",
              "    <tr>\n",
              "      <th>2</th>\n",
              "      <td>Di rumah aja tetap gaya dengan fashion terbaru...</td>\n",
              "      <td>0.0</td>\n",
              "      <td>0.0</td>\n",
              "      <td>Neutral</td>\n",
              "    </tr>\n",
              "    <tr>\n",
              "      <th>3</th>\n",
              "      <td>Masker Case + Free Bottle - Rp64.900\\n</td>\n",
              "      <td>0.8</td>\n",
              "      <td>0.4</td>\n",
              "      <td>Positive</td>\n",
              "    </tr>\n",
              "    <tr>\n",
              "      <th>4</th>\n",
              "      <td>masker Case Motif - Rp30.000\\n</td>\n",
              "      <td>0.0</td>\n",
              "      <td>0.0</td>\n",
              "      <td>Neutral</td>\n",
              "    </tr>\n",
              "    <tr>\n",
              "      <th>...</th>\n",
              "      <td>...</td>\n",
              "      <td>...</td>\n",
              "      <td>...</td>\n",
              "      <td>...</td>\n",
              "    </tr>\n",
              "    <tr>\n",
              "      <th>195</th>\n",
              "      <td>Yang hobi baca buku mana suaranya? Kamu bisa d...</td>\n",
              "      <td>0.0</td>\n",
              "      <td>0.0</td>\n",
              "      <td>Neutral</td>\n",
              "    </tr>\n",
              "    <tr>\n",
              "      <th>196</th>\n",
              "      <td>Dear 2021 semoga aku lebih sering checkout bar...</td>\n",
              "      <td>0.0</td>\n",
              "      <td>0.0</td>\n",
              "      <td>Neutral</td>\n",
              "    </tr>\n",
              "    <tr>\n",
              "      <th>197</th>\n",
              "      <td>Pagi! Siapa nih artis favorit kamu selama Toko...</td>\n",
              "      <td>0.0</td>\n",
              "      <td>0.0</td>\n",
              "      <td>Neutral</td>\n",
              "    </tr>\n",
              "    <tr>\n",
              "      <th>198</th>\n",
              "      <td>Lagi nyari kebutuhan kendaraan di akhir tahun?...</td>\n",
              "      <td>0.0</td>\n",
              "      <td>0.0</td>\n",
              "      <td>Neutral</td>\n",
              "    </tr>\n",
              "    <tr>\n",
              "      <th>199</th>\n",
              "      <td>: MY DAY! Masih ada 2 Official Album DAY6 (Eve...</td>\n",
              "      <td>0.0</td>\n",
              "      <td>0.0</td>\n",
              "      <td>Neutral</td>\n",
              "    </tr>\n",
              "  </tbody>\n",
              "</table>\n",
              "<p>200 rows × 4 columns</p>\n",
              "</div>"
            ],
            "text/plain": [
              "                                                Tweets  ...  Analysis\n",
              "0    GIVEAWAY                          GIVEAWAY\\nAL...  ...   Neutral\n",
              "1    Belanja elektronik harga bersahabat,\\nbikin ke...  ...   Neutral\n",
              "2    Di rumah aja tetap gaya dengan fashion terbaru...  ...   Neutral\n",
              "3              Masker Case + Free Bottle - Rp64.900\\n   ...  Positive\n",
              "4                      masker Case Motif - Rp30.000\\n   ...   Neutral\n",
              "..                                                 ...  ...       ...\n",
              "195  Yang hobi baca buku mana suaranya? Kamu bisa d...  ...   Neutral\n",
              "196  Dear 2021 semoga aku lebih sering checkout bar...  ...   Neutral\n",
              "197  Pagi! Siapa nih artis favorit kamu selama Toko...  ...   Neutral\n",
              "198  Lagi nyari kebutuhan kendaraan di akhir tahun?...  ...   Neutral\n",
              "199  : MY DAY! Masih ada 2 Official Album DAY6 (Eve...  ...   Neutral\n",
              "\n",
              "[200 rows x 4 columns]"
            ]
          },
          "metadata": {
            "tags": []
          },
          "execution_count": 9
        }
      ]
    },
    {
      "cell_type": "code",
      "metadata": {
        "colab": {
          "base_uri": "https://localhost:8080/",
          "height": 419
        },
        "id": "mVa4xJN9l6LO",
        "outputId": "3532ccf2-c61f-40df-ea92-040629c92183"
      },
      "source": [
        "# Create a function to clean the tweets\r\n",
        "def cleanTxt(text):\r\n",
        " text = re.sub('@[A-Za-z0–9]+', '', text) #Removing @mentions\r\n",
        " text = re.sub('#', '', text) # Removing '#' hash tag\r\n",
        " text = re.sub('RT[\\s]+', '', text) # Removing RT\r\n",
        " text = re.sub('https?:\\/\\/\\S+', '', text) # Removing hyperlink\r\n",
        " \r\n",
        " return text\r\n",
        "\r\n",
        "\r\n",
        "# Clean the tweets\r\n",
        "df['Tweets'] = df['Tweets'].apply(cleanTxt)\r\n",
        "\r\n",
        "# Show the cleaned tweets\r\n",
        "df"
      ],
      "execution_count": 10,
      "outputs": [
        {
          "output_type": "execute_result",
          "data": {
            "text/html": [
              "<div>\n",
              "<style scoped>\n",
              "    .dataframe tbody tr th:only-of-type {\n",
              "        vertical-align: middle;\n",
              "    }\n",
              "\n",
              "    .dataframe tbody tr th {\n",
              "        vertical-align: top;\n",
              "    }\n",
              "\n",
              "    .dataframe thead th {\n",
              "        text-align: right;\n",
              "    }\n",
              "</style>\n",
              "<table border=\"1\" class=\"dataframe\">\n",
              "  <thead>\n",
              "    <tr style=\"text-align: right;\">\n",
              "      <th></th>\n",
              "      <th>Tweets</th>\n",
              "      <th>Subjectivity</th>\n",
              "      <th>Polarity</th>\n",
              "      <th>Analysis</th>\n",
              "    </tr>\n",
              "  </thead>\n",
              "  <tbody>\n",
              "    <tr>\n",
              "      <th>0</th>\n",
              "      <td>GIVEAWAY                          GIVEAWAY\\nAL...</td>\n",
              "      <td>0.0</td>\n",
              "      <td>0.0</td>\n",
              "      <td>Neutral</td>\n",
              "    </tr>\n",
              "    <tr>\n",
              "      <th>1</th>\n",
              "      <td>Belanja elektronik harga bersahabat,\\nbikin ke...</td>\n",
              "      <td>0.0</td>\n",
              "      <td>0.0</td>\n",
              "      <td>Neutral</td>\n",
              "    </tr>\n",
              "    <tr>\n",
              "      <th>2</th>\n",
              "      <td>Di rumah aja tetap gaya dengan fashion terbaru...</td>\n",
              "      <td>0.0</td>\n",
              "      <td>0.0</td>\n",
              "      <td>Neutral</td>\n",
              "    </tr>\n",
              "    <tr>\n",
              "      <th>3</th>\n",
              "      <td>Masker Case + Free Bottle - Rp64.900\\n</td>\n",
              "      <td>0.8</td>\n",
              "      <td>0.4</td>\n",
              "      <td>Positive</td>\n",
              "    </tr>\n",
              "    <tr>\n",
              "      <th>4</th>\n",
              "      <td>masker Case Motif - Rp30.000\\n</td>\n",
              "      <td>0.0</td>\n",
              "      <td>0.0</td>\n",
              "      <td>Neutral</td>\n",
              "    </tr>\n",
              "    <tr>\n",
              "      <th>...</th>\n",
              "      <td>...</td>\n",
              "      <td>...</td>\n",
              "      <td>...</td>\n",
              "      <td>...</td>\n",
              "    </tr>\n",
              "    <tr>\n",
              "      <th>195</th>\n",
              "      <td>Yang hobi baca buku mana suaranya? Kamu bisa d...</td>\n",
              "      <td>0.0</td>\n",
              "      <td>0.0</td>\n",
              "      <td>Neutral</td>\n",
              "    </tr>\n",
              "    <tr>\n",
              "      <th>196</th>\n",
              "      <td>Dear 2021 semoga aku lebih sering checkout bar...</td>\n",
              "      <td>0.0</td>\n",
              "      <td>0.0</td>\n",
              "      <td>Neutral</td>\n",
              "    </tr>\n",
              "    <tr>\n",
              "      <th>197</th>\n",
              "      <td>Pagi! Siapa nih artis favorit kamu selama Toko...</td>\n",
              "      <td>0.0</td>\n",
              "      <td>0.0</td>\n",
              "      <td>Neutral</td>\n",
              "    </tr>\n",
              "    <tr>\n",
              "      <th>198</th>\n",
              "      <td>Lagi nyari kebutuhan kendaraan di akhir tahun?...</td>\n",
              "      <td>0.0</td>\n",
              "      <td>0.0</td>\n",
              "      <td>Neutral</td>\n",
              "    </tr>\n",
              "    <tr>\n",
              "      <th>199</th>\n",
              "      <td>: MY DAY! Masih ada 2 Official Album DAY6 (Eve...</td>\n",
              "      <td>0.0</td>\n",
              "      <td>0.0</td>\n",
              "      <td>Neutral</td>\n",
              "    </tr>\n",
              "  </tbody>\n",
              "</table>\n",
              "<p>200 rows × 4 columns</p>\n",
              "</div>"
            ],
            "text/plain": [
              "                                                Tweets  ...  Analysis\n",
              "0    GIVEAWAY                          GIVEAWAY\\nAL...  ...   Neutral\n",
              "1    Belanja elektronik harga bersahabat,\\nbikin ke...  ...   Neutral\n",
              "2    Di rumah aja tetap gaya dengan fashion terbaru...  ...   Neutral\n",
              "3              Masker Case + Free Bottle - Rp64.900\\n   ...  Positive\n",
              "4                      masker Case Motif - Rp30.000\\n   ...   Neutral\n",
              "..                                                 ...  ...       ...\n",
              "195  Yang hobi baca buku mana suaranya? Kamu bisa d...  ...   Neutral\n",
              "196  Dear 2021 semoga aku lebih sering checkout bar...  ...   Neutral\n",
              "197  Pagi! Siapa nih artis favorit kamu selama Toko...  ...   Neutral\n",
              "198  Lagi nyari kebutuhan kendaraan di akhir tahun?...  ...   Neutral\n",
              "199  : MY DAY! Masih ada 2 Official Album DAY6 (Eve...  ...   Neutral\n",
              "\n",
              "[200 rows x 4 columns]"
            ]
          },
          "metadata": {
            "tags": []
          },
          "execution_count": 10
        }
      ]
    },
    {
      "cell_type": "code",
      "metadata": {
        "colab": {
          "base_uri": "https://localhost:8080/"
        },
        "id": "SFKzqhRGl-r0",
        "outputId": "6c54f7b5-2441-4ee0-e8a3-21f3466d2eea"
      },
      "source": [
        "# Printing positive tweets \r\n",
        "print('Printing positive tweets:\\n')\r\n",
        "j=1\r\n",
        "sortedDF = df.sort_values(by=['Polarity']) #Sort the tweets\r\n",
        "for i in range(0, sortedDF.shape[0] ):\r\n",
        "  if( sortedDF['Analysis'][i] == 'Positive'):\r\n",
        "    print(str(j) + ') '+ sortedDF['Tweets'][i])\r\n",
        "    print()\r\n",
        "    j= j+1"
      ],
      "execution_count": 11,
      "outputs": [
        {
          "output_type": "stream",
          "text": [
            "Printing positive tweets:\n",
            "\n",
            "1) Masker Case + Free Bottle - Rp64.900\n",
            " \n",
            "\n",
            "2) Banyak pilihan gadget yang smart di era serba cepat! Yuk belanja di Gadget on Tuesday dan dapatkan Diskon hingga 70% + Cashback hingga 170RB! Klik &gt;\n",
            "\n",
            "HPGadget GOT\n",
            "\n",
            "3) DROP YOUR FAVORITE GIF HEREEE\n",
            "\n",
            "👇🏻👇🏻👇🏻👇🏻👇🏻👇🏻👇🏻👇🏻👇🏻👇🏻👇🏻👇🏻👇🏻\n",
            "\n",
            "4) 1111 Selamat Tahun Baru 2021, Kak Rofidabyan! Semoga sehat dan bahagia selalu ya Kak! Kami sudah mengirimkan pesan ke Kakak melalui Direct Message (DM) ya Kak. Mohon kesediaan Kakak untuk mengecek DMnya. Kami tunggu balasannya.\n",
            "\n",
            "5) Throwback performance KING NASSAR di TokopediaWIB TV SHOW bulan lalu! Siapa yang kangennnn??? Happy birthday juga yaa buat King Nassar🥰👑👑🥰\n",
            "\n",
            "KINGNASSARDAY \n",
            "\n",
            "6) BREAKING NEWS LAINNYA 📺 LIVE dari Tokopedia Tower!\n",
            "Setiap hari Selasa di bulan Januari bakal ada Gadget on Tuesday (GOT) Quiz berhadiah di IG Story Tokopedia!\n",
            "JANGAN SAMPAI KETINGGALAN 🤩🤩\n",
            "HPGadget GadgetOnTuesday Quiz KuisIndonesia KuisGiveaway\n",
            "\n",
            "7) Selamat pagi dari hari Senin pertama di 2021 :)\n",
            "\n",
            "8)  Aminn 🙏🏼 Good luck! 🍀\n",
            "\n",
            "9) New Year New Me! Tiap tahun punya resolusi yang sama! Siapa yang gini juga? 😝\n",
            "\n",
            "Share ke mimin dong resolusi kamu tahun 2021, masih sama kayak tahun-tahun sebelumnya gak? \n",
            "\n",
            "10) Yuk Top Up mTix mu sekarang dan dapatkan voucher diskon 10rb buat tiket nonton dan makanan kamu! Info selanjutnya, klik \n",
            "\n",
            "11) 2. Si tukang borong aksesoris tahun baru - bando, kacamata, pokoknya mereka yang paling lengkap &amp; excited deeh soal iniii \n",
            "\n",
            "12) 1. “The new year new me” type, sibuk nyusun resolusi (dan biasanya juga lagi nge plan mau potong rambut model gimana, supaya ✨new me✨ nya kerasa 😂) Ayoloooh siapa yg giniii 😋😋 \n",
            "\n",
            "13)  WOW! +1855% !!!!\n",
            "\n",
            "14) Hari Rabu waktunya belanja kebutuhan kenndaraan kamu. Karena ada promo Rabu Ngebut yang bikin belanjamu super hemat. Klik \n",
            "\n",
            "otomotif\n",
            "\n",
            "15)  wahhh bole jugaa nih buat bersihin AC kamar mimin. thanks for sharing!\n",
            "\n",
            "16)  Enak yaaa gak perlu pompa lagi lengan jadi berotot bund :))\n",
            "\n"
          ],
          "name": "stdout"
        }
      ]
    },
    {
      "cell_type": "code",
      "metadata": {
        "colab": {
          "base_uri": "https://localhost:8080/"
        },
        "id": "WqA-QdFvmIu2",
        "outputId": "040e2acd-5f9e-4f40-d4b7-183910bb48a0"
      },
      "source": [
        "# Printing negative tweets  \r\n",
        "print('Printing negative tweets:\\n')\r\n",
        "j=1\r\n",
        "sortedDF = df.sort_values(by=['Polarity'],ascending=False) #Sort the tweets\r\n",
        "for i in range(0, sortedDF.shape[0] ):\r\n",
        "  if( sortedDF['Analysis'][i] == 'Negative'):\r\n",
        "    print(str(j) + ') '+sortedDF['Tweets'][i])\r\n",
        "    print()\r\n",
        "    j=j+1"
      ],
      "execution_count": 12,
      "outputs": [
        {
          "output_type": "stream",
          "text": [
            "Printing negative tweets:\n",
            "\n",
            "1) Hai, Ibu-ibu, pas suami asyik main game atau sibuk sendiri sama hobi mereka, mending belanja alat-alat dapur di Karnaval Dapur.\n",
            "Klik link ini  ! Yuk BuIbu buruan diserbu! Mimin nitip yaa buat di kost-an 😆😆\n",
            "HomeNLiving KarnavalDapur\n",
            "\n",
            "2) _aja Estetik banget siah alas pancinya! 😎\n",
            "\n"
          ],
          "name": "stdout"
        }
      ]
    },
    {
      "cell_type": "code",
      "metadata": {
        "colab": {
          "base_uri": "https://localhost:8080/",
          "height": 405
        },
        "id": "WB6wW9f7mP6C",
        "outputId": "116818bb-88dc-4564-d553-b0cf5a63ab3a"
      },
      "source": [
        "# Plotting \r\n",
        "plt.figure(figsize=(8,6)) \r\n",
        "for i in range(0, df.shape[0]):\r\n",
        "  plt.scatter(df[\"Polarity\"][i], df[\"Subjectivity\"][i], color='Red') \r\n",
        "# plt.scatter(x,y,color)   \r\n",
        "plt.title('Sentiment Analysis') \r\n",
        "plt.xlabel('Polarity') \r\n",
        "plt.ylabel('Subjectivity') \r\n",
        "plt.show()"
      ],
      "execution_count": 13,
      "outputs": [
        {
          "output_type": "display_data",
          "data": {
            "image/png": "[encoded data removed]",
            "text/plain": [
              "<Figure size 576x432 with 1 Axes>"
            ]
          },
          "metadata": {
            "tags": [],
            "needs_background": "light"
          }
        }
      ]
    },
    {
      "cell_type": "code",
      "metadata": {
        "colab": {
          "base_uri": "https://localhost:8080/"
        },
        "id": "evJovTbymUKw",
        "outputId": "b7ea8c2e-b1c9-471f-d313-8ea2b755b516"
      },
      "source": [
        "# Print the percentage of positive tweets\r\n",
        "ptweets = df[df.Analysis == 'Positive']\r\n",
        "ptweets = ptweets['Tweets']\r\n",
        "ptweets\r\n",
        "\r\n",
        "round( (ptweets.shape[0] / df.shape[0]) * 100 , 1)"
      ],
      "execution_count": 14,
      "outputs": [
        {
          "output_type": "execute_result",
          "data": {
            "text/plain": [
              "8.0"
            ]
          },
          "metadata": {
            "tags": []
          },
          "execution_count": 14
        }
      ]
    },
    {
      "cell_type": "code",
      "metadata": {
        "colab": {
          "base_uri": "https://localhost:8080/"
        },
        "id": "q8IN6JyumZaV",
        "outputId": "a22f4239-c9cd-49a5-9441-57eb341cb020"
      },
      "source": [
        "# Print the percentage of negative tweets\r\n",
        "ntweets = df[df.Analysis == 'Negative']\r\n",
        "ntweets = ntweets['Tweets']\r\n",
        "ntweets\r\n",
        "\r\n",
        "round( (ntweets.shape[0] / df.shape[0]) * 100, 1)\r\n"
      ],
      "execution_count": 15,
      "outputs": [
        {
          "output_type": "execute_result",
          "data": {
            "text/plain": [
              "1.0"
            ]
          },
          "metadata": {
            "tags": []
          },
          "execution_count": 15
        }
      ]
    },
    {
      "cell_type": "code",
      "metadata": {
        "colab": {
          "base_uri": "https://localhost:8080/"
        },
        "id": "RczyL1HrmeXp",
        "outputId": "c51d2baa-8b9b-4df2-a5ee-ad5f6efa4ed3"
      },
      "source": [
        "# Show the value counts\r\n",
        "df['Analysis'].value_counts()"
      ],
      "execution_count": 16,
      "outputs": [
        {
          "output_type": "execute_result",
          "data": {
            "text/plain": [
              "Neutral     182\n",
              "Positive     16\n",
              "Negative      2\n",
              "Name: Analysis, dtype: int64"
            ]
          },
          "metadata": {
            "tags": []
          },
          "execution_count": 16
        }
      ]
    }
  ]
}